{
 "cells": [
  {
   "cell_type": "markdown",
   "metadata": {
    "id": "RK5a8-1GjNDY"
   },
   "source": [
    "# 데이터셋 병합\n",
    "### < 데이터 >\n",
    "- FER2013\n",
    "- AI허브 감정 인식 데이터\n",
    "  - 이미지 -> 픽셀 변환\n",
    "  - FER2013과 같은 형태의 데이터프레임 생성\n",
    "\n",
    "### < 감정 종류 >\n",
    "- 화남, 당황, 불안, 행복, 슬픔, 중립\n",
    "- {0:'Angry', 1:'Confusion', 2:'Fear', 3:'Happy', 4:'Sad' , 5:'Neutral'}"
   ]
  },
  {
   "cell_type": "markdown",
   "metadata": {
    "id": "ByugeIIckwxC"
   },
   "source": [
    "### 0. 라이브러리 호출"
   ]
  },
  {
   "cell_type": "code",
   "execution_count": 1,
   "metadata": {
    "id": "hK2yf6aYkzgF"
   },
   "outputs": [],
   "source": [
    "import pandas as pd\n",
    "import numpy as np\n",
    "import matplotlib.pyplot as plt\n",
    "import os\n",
    "import zipfile\n",
    "import shutil\n",
    "from io import BytesIO\n",
    "from PIL import Image, ImageFile\n",
    "from PIL.Image import DecompressionBombError"
   ]
  },
  {
   "cell_type": "markdown",
   "metadata": {
    "id": "yXS2VFrlyT17"
   },
   "source": [
    "### 1. FER2013 전처리\n",
    "- Disgust(혐오), Surprise(놀람)에 해당하는 데이터 제거, 주어진 감정 코드로 다시 매핑하기\n",
    "- Public Test, Private Test -> Test로 합치기"
   ]
  },
  {
   "cell_type": "code",
   "execution_count": 87,
   "metadata": {},
   "outputs": [],
   "source": [
    "path = './'"
   ]
  },
  {
   "cell_type": "code",
   "execution_count": 88,
   "metadata": {
    "colab": {
     "base_uri": "https://localhost:8080/",
     "height": 242
    },
    "id": "oRgaU_gXk1i9",
    "outputId": "18c00867-82fb-4451-abc5-7c0f95bc4e92"
   },
   "outputs": [
    {
     "name": "stdout",
     "output_type": "stream",
     "text": [
      "Usage values: ['Training' 'PublicTest' 'PrivateTest']\n",
      "emotion values: [0 2 4 6 3 5 1]\n"
     ]
    },
    {
     "data": {
      "text/html": [
       "<div>\n",
       "<style scoped>\n",
       "    .dataframe tbody tr th:only-of-type {\n",
       "        vertical-align: middle;\n",
       "    }\n",
       "\n",
       "    .dataframe tbody tr th {\n",
       "        vertical-align: top;\n",
       "    }\n",
       "\n",
       "    .dataframe thead th {\n",
       "        text-align: right;\n",
       "    }\n",
       "</style>\n",
       "<table border=\"1\" class=\"dataframe\">\n",
       "  <thead>\n",
       "    <tr style=\"text-align: right;\">\n",
       "      <th></th>\n",
       "      <th>emotion</th>\n",
       "      <th>pixels</th>\n",
       "      <th>Usage</th>\n",
       "    </tr>\n",
       "  </thead>\n",
       "  <tbody>\n",
       "    <tr>\n",
       "      <th>0</th>\n",
       "      <td>0</td>\n",
       "      <td>70 80 82 72 58 58 60 63 54 58 60 48 89 115 121...</td>\n",
       "      <td>Training</td>\n",
       "    </tr>\n",
       "    <tr>\n",
       "      <th>1</th>\n",
       "      <td>0</td>\n",
       "      <td>151 150 147 155 148 133 111 140 170 174 182 15...</td>\n",
       "      <td>Training</td>\n",
       "    </tr>\n",
       "    <tr>\n",
       "      <th>2</th>\n",
       "      <td>2</td>\n",
       "      <td>231 212 156 164 174 138 161 173 182 200 106 38...</td>\n",
       "      <td>Training</td>\n",
       "    </tr>\n",
       "    <tr>\n",
       "      <th>3</th>\n",
       "      <td>4</td>\n",
       "      <td>24 32 36 30 32 23 19 20 30 41 21 22 32 34 21 1...</td>\n",
       "      <td>Training</td>\n",
       "    </tr>\n",
       "    <tr>\n",
       "      <th>4</th>\n",
       "      <td>6</td>\n",
       "      <td>4 0 0 0 0 0 0 0 0 0 0 0 3 15 23 28 48 50 58 84...</td>\n",
       "      <td>Training</td>\n",
       "    </tr>\n",
       "  </tbody>\n",
       "</table>\n",
       "</div>"
      ],
      "text/plain": [
       "   emotion                                             pixels     Usage\n",
       "0        0  70 80 82 72 58 58 60 63 54 58 60 48 89 115 121...  Training\n",
       "1        0  151 150 147 155 148 133 111 140 170 174 182 15...  Training\n",
       "2        2  231 212 156 164 174 138 161 173 182 200 106 38...  Training\n",
       "3        4  24 32 36 30 32 23 19 20 30 41 21 22 32 34 21 1...  Training\n",
       "4        6  4 0 0 0 0 0 0 0 0 0 0 0 3 15 23 28 48 50 58 84...  Training"
      ]
     },
     "execution_count": 88,
     "metadata": {},
     "output_type": "execute_result"
    }
   ],
   "source": [
    "fer2013 = pd.read_csv(path + 'fer2013.csv')\n",
    "\n",
    "# Usage\n",
    "usage_unique = fer2013['Usage'].unique()\n",
    "print(\"Usage values:\", usage_unique)\n",
    "\n",
    "# emotion\n",
    "emotion_unique = fer2013['emotion'].unique()\n",
    "print(\"emotion values:\", emotion_unique)\n",
    "\n",
    "fer2013.head()"
   ]
  },
  {
   "cell_type": "code",
   "execution_count": 89,
   "metadata": {
    "colab": {
     "base_uri": "https://localhost:8080/",
     "height": 242
    },
    "id": "tYDWomD7Vtvk",
    "outputId": "6594f6d4-2d11-4f3f-ebb4-2c24e4e8844b"
   },
   "outputs": [
    {
     "name": "stdout",
     "output_type": "stream",
     "text": [
      "Usage values: ['Training' 'Test']\n",
      "emotion values: [0 2 4 6 3 5 1]\n"
     ]
    },
    {
     "data": {
      "text/html": [
       "<div>\n",
       "<style scoped>\n",
       "    .dataframe tbody tr th:only-of-type {\n",
       "        vertical-align: middle;\n",
       "    }\n",
       "\n",
       "    .dataframe tbody tr th {\n",
       "        vertical-align: top;\n",
       "    }\n",
       "\n",
       "    .dataframe thead th {\n",
       "        text-align: right;\n",
       "    }\n",
       "</style>\n",
       "<table border=\"1\" class=\"dataframe\">\n",
       "  <thead>\n",
       "    <tr style=\"text-align: right;\">\n",
       "      <th></th>\n",
       "      <th>emotion</th>\n",
       "      <th>pixels</th>\n",
       "      <th>Usage</th>\n",
       "    </tr>\n",
       "  </thead>\n",
       "  <tbody>\n",
       "    <tr>\n",
       "      <th>0</th>\n",
       "      <td>0</td>\n",
       "      <td>70 80 82 72 58 58 60 63 54 58 60 48 89 115 121...</td>\n",
       "      <td>Training</td>\n",
       "    </tr>\n",
       "    <tr>\n",
       "      <th>1</th>\n",
       "      <td>0</td>\n",
       "      <td>151 150 147 155 148 133 111 140 170 174 182 15...</td>\n",
       "      <td>Training</td>\n",
       "    </tr>\n",
       "    <tr>\n",
       "      <th>2</th>\n",
       "      <td>2</td>\n",
       "      <td>231 212 156 164 174 138 161 173 182 200 106 38...</td>\n",
       "      <td>Training</td>\n",
       "    </tr>\n",
       "    <tr>\n",
       "      <th>3</th>\n",
       "      <td>4</td>\n",
       "      <td>24 32 36 30 32 23 19 20 30 41 21 22 32 34 21 1...</td>\n",
       "      <td>Training</td>\n",
       "    </tr>\n",
       "    <tr>\n",
       "      <th>4</th>\n",
       "      <td>6</td>\n",
       "      <td>4 0 0 0 0 0 0 0 0 0 0 0 3 15 23 28 48 50 58 84...</td>\n",
       "      <td>Training</td>\n",
       "    </tr>\n",
       "  </tbody>\n",
       "</table>\n",
       "</div>"
      ],
      "text/plain": [
       "   emotion                                             pixels     Usage\n",
       "0        0  70 80 82 72 58 58 60 63 54 58 60 48 89 115 121...  Training\n",
       "1        0  151 150 147 155 148 133 111 140 170 174 182 15...  Training\n",
       "2        2  231 212 156 164 174 138 161 173 182 200 106 38...  Training\n",
       "3        4  24 32 36 30 32 23 19 20 30 41 21 22 32 34 21 1...  Training\n",
       "4        6  4 0 0 0 0 0 0 0 0 0 0 0 3 15 23 28 48 50 58 84...  Training"
      ]
     },
     "execution_count": 89,
     "metadata": {},
     "output_type": "execute_result"
    }
   ],
   "source": [
    "# Usage가 PublicTest 또는 PrivateTest인 경우, Test로 변환\n",
    "fer2013['Usage'] = fer2013['Usage'].replace(['PublicTest', 'PrivateTest'], 'Test')\n",
    "\n",
    "# Usage\n",
    "usage_unique = fer2013['Usage'].unique()\n",
    "print(\"Usage values:\", usage_unique)\n",
    "\n",
    "# emotion\n",
    "emotion_unique = fer2013['emotion'].unique()\n",
    "print(\"emotion values:\", emotion_unique)\n",
    "\n",
    "fer2013.head()"
   ]
  },
  {
   "cell_type": "code",
   "execution_count": 90,
   "metadata": {
    "colab": {
     "base_uri": "https://localhost:8080/",
     "height": 333
    },
    "id": "AEZ2O1tO6Dnd",
    "outputId": "4a97d979-030c-4c9e-e217-62a20d9f663f"
   },
   "outputs": [
    {
     "data": {
      "image/png": "[encoded data removed]",
      "text/plain": [
       "<Figure size 500x300 with 1 Axes>"
      ]
     },
     "metadata": {},
     "output_type": "display_data"
    }
   ],
   "source": [
    "# 감정 매핑\n",
    "emotion_mapping = {0: 'Angry', 1: 'Disgust', 2: 'Fear', 3: 'Happy', 4: 'Sad', 5: 'Surprise', 6: 'Neutral'}\n",
    "\n",
    "# 히스토그램 그리기\n",
    "plt.figure(figsize=(5, 3))\n",
    "plt.hist(fer2013[\"emotion\"], bins=len(emotion_mapping), edgecolor=\"black\")\n",
    "plt.title(\"Emotion Distribution\")\n",
    "plt.xlabel(\"Emotion\")\n",
    "plt.ylabel(\"Frequency\")\n",
    "\n",
    "# x축 값 매핑\n",
    "plt.xticks(ticks=range(len(emotion_mapping)), labels=[emotion_mapping[i] for i in range(len(emotion_mapping))])\n",
    "plt.show()"
   ]
  },
  {
   "cell_type": "markdown",
   "metadata": {},
   "source": [
    "- Disgust(혐오), Surprise(놀람) 컬럼 제거\n",
    "- fer2013 감정: {0: 'Angry', 1: 'Disgust', 2: 'Fear', 3: 'Happy', 4: 'Sad', 5: 'Surprise', 6: 'Neutral'}"
   ]
  },
  {
   "cell_type": "code",
   "execution_count": 92,
   "metadata": {
    "colab": {
     "base_uri": "https://localhost:8080/",
     "height": 224
    },
    "id": "G0JDhAW85rzt",
    "outputId": "654bccce-7954-4573-8152-e1a952d26bbc"
   },
   "outputs": [
    {
     "name": "stdout",
     "output_type": "stream",
     "text": [
      "31338\n"
     ]
    },
    {
     "data": {
      "text/html": [
       "<div>\n",
       "<style scoped>\n",
       "    .dataframe tbody tr th:only-of-type {\n",
       "        vertical-align: middle;\n",
       "    }\n",
       "\n",
       "    .dataframe tbody tr th {\n",
       "        vertical-align: top;\n",
       "    }\n",
       "\n",
       "    .dataframe thead th {\n",
       "        text-align: right;\n",
       "    }\n",
       "</style>\n",
       "<table border=\"1\" class=\"dataframe\">\n",
       "  <thead>\n",
       "    <tr style=\"text-align: right;\">\n",
       "      <th></th>\n",
       "      <th>emotion</th>\n",
       "      <th>pixels</th>\n",
       "      <th>Usage</th>\n",
       "    </tr>\n",
       "  </thead>\n",
       "  <tbody>\n",
       "    <tr>\n",
       "      <th>0</th>\n",
       "      <td>0</td>\n",
       "      <td>70 80 82 72 58 58 60 63 54 58 60 48 89 115 121...</td>\n",
       "      <td>Training</td>\n",
       "    </tr>\n",
       "    <tr>\n",
       "      <th>1</th>\n",
       "      <td>0</td>\n",
       "      <td>151 150 147 155 148 133 111 140 170 174 182 15...</td>\n",
       "      <td>Training</td>\n",
       "    </tr>\n",
       "    <tr>\n",
       "      <th>2</th>\n",
       "      <td>2</td>\n",
       "      <td>231 212 156 164 174 138 161 173 182 200 106 38...</td>\n",
       "      <td>Training</td>\n",
       "    </tr>\n",
       "    <tr>\n",
       "      <th>3</th>\n",
       "      <td>4</td>\n",
       "      <td>24 32 36 30 32 23 19 20 30 41 21 22 32 34 21 1...</td>\n",
       "      <td>Training</td>\n",
       "    </tr>\n",
       "    <tr>\n",
       "      <th>4</th>\n",
       "      <td>6</td>\n",
       "      <td>4 0 0 0 0 0 0 0 0 0 0 0 3 15 23 28 48 50 58 84...</td>\n",
       "      <td>Training</td>\n",
       "    </tr>\n",
       "  </tbody>\n",
       "</table>\n",
       "</div>"
      ],
      "text/plain": [
       "   emotion                                             pixels     Usage\n",
       "0        0  70 80 82 72 58 58 60 63 54 58 60 48 89 115 121...  Training\n",
       "1        0  151 150 147 155 148 133 111 140 170 174 182 15...  Training\n",
       "2        2  231 212 156 164 174 138 161 173 182 200 106 38...  Training\n",
       "3        4  24 32 36 30 32 23 19 20 30 41 21 22 32 34 21 1...  Training\n",
       "4        6  4 0 0 0 0 0 0 0 0 0 0 0 3 15 23 28 48 50 58 84...  Training"
      ]
     },
     "execution_count": 92,
     "metadata": {},
     "output_type": "execute_result"
    }
   ],
   "source": [
    "fer2013 = fer2013[fer2013[\"emotion\"].isin([0, 2, 3, 4, 6])]\n",
    "print(len(fer2013))\n",
    "fer2013.head()"
   ]
  },
  {
   "cell_type": "markdown",
   "metadata": {},
   "source": [
    "- {0:'Angry', 1:'Confusion', 2:'Fear', 3:'Happy', 4:'Sad' , 5:'Neutral'} 형태로 감정 매핑"
   ]
  },
  {
   "cell_type": "code",
   "execution_count": 94,
   "metadata": {},
   "outputs": [
    {
     "data": {
      "text/html": [
       "<div>\n",
       "<style scoped>\n",
       "    .dataframe tbody tr th:only-of-type {\n",
       "        vertical-align: middle;\n",
       "    }\n",
       "\n",
       "    .dataframe tbody tr th {\n",
       "        vertical-align: top;\n",
       "    }\n",
       "\n",
       "    .dataframe thead th {\n",
       "        text-align: right;\n",
       "    }\n",
       "</style>\n",
       "<table border=\"1\" class=\"dataframe\">\n",
       "  <thead>\n",
       "    <tr style=\"text-align: right;\">\n",
       "      <th></th>\n",
       "      <th>emotion</th>\n",
       "      <th>pixels</th>\n",
       "      <th>Usage</th>\n",
       "    </tr>\n",
       "  </thead>\n",
       "  <tbody>\n",
       "    <tr>\n",
       "      <th>0</th>\n",
       "      <td>0</td>\n",
       "      <td>70 80 82 72 58 58 60 63 54 58 60 48 89 115 121...</td>\n",
       "      <td>Training</td>\n",
       "    </tr>\n",
       "    <tr>\n",
       "      <th>1</th>\n",
       "      <td>0</td>\n",
       "      <td>151 150 147 155 148 133 111 140 170 174 182 15...</td>\n",
       "      <td>Training</td>\n",
       "    </tr>\n",
       "    <tr>\n",
       "      <th>2</th>\n",
       "      <td>2</td>\n",
       "      <td>231 212 156 164 174 138 161 173 182 200 106 38...</td>\n",
       "      <td>Training</td>\n",
       "    </tr>\n",
       "    <tr>\n",
       "      <th>3</th>\n",
       "      <td>4</td>\n",
       "      <td>24 32 36 30 32 23 19 20 30 41 21 22 32 34 21 1...</td>\n",
       "      <td>Training</td>\n",
       "    </tr>\n",
       "    <tr>\n",
       "      <th>4</th>\n",
       "      <td>5</td>\n",
       "      <td>4 0 0 0 0 0 0 0 0 0 0 0 3 15 23 28 48 50 58 84...</td>\n",
       "      <td>Training</td>\n",
       "    </tr>\n",
       "  </tbody>\n",
       "</table>\n",
       "</div>"
      ],
      "text/plain": [
       "   emotion                                             pixels     Usage\n",
       "0        0  70 80 82 72 58 58 60 63 54 58 60 48 89 115 121...  Training\n",
       "1        0  151 150 147 155 148 133 111 140 170 174 182 15...  Training\n",
       "2        2  231 212 156 164 174 138 161 173 182 200 106 38...  Training\n",
       "3        4  24 32 36 30 32 23 19 20 30 41 21 22 32 34 21 1...  Training\n",
       "4        5  4 0 0 0 0 0 0 0 0 0 0 0 3 15 23 28 48 50 58 84...  Training"
      ]
     },
     "execution_count": 94,
     "metadata": {},
     "output_type": "execute_result"
    }
   ],
   "source": [
    "# 'emotion' 열에서 값이 6인 것을 5로 변경\n",
    "fer2013.loc[fer2013[\"emotion\"] == 6, \"emotion\"] = 5\n",
    "fer2013.head()"
   ]
  },
  {
   "cell_type": "code",
   "execution_count": 95,
   "metadata": {
    "colab": {
     "base_uri": "https://localhost:8080/",
     "height": 333
    },
    "id": "o7aC4iC13m2C",
    "outputId": "845949f1-6ab8-47c3-c4c3-587642219f81"
   },
   "outputs": [
    {
     "data": {
      "image/png": "[encoded data removed]",
      "text/plain": [
       "<Figure size 700x500 with 1 Axes>"
      ]
     },
     "metadata": {},
     "output_type": "display_data"
    }
   ],
   "source": [
    "# 감정 매핑\n",
    "emotion_mapping = {0: 'Angry', 2: 'Fear', 3: 'Happy', 4: 'Sad', 5: 'Neutral'}\n",
    "\n",
    "# 고유값 및 빈도 확인\n",
    "emotion_counts = fer2013[\"emotion\"].value_counts()\n",
    "\n",
    "# 히스토그램 그리기\n",
    "plt.figure(figsize=(7, 5))\n",
    "plt.bar(emotion_mapping.values(), [emotion_counts.get(i, 0) for i in emotion_mapping.keys()], color='skyblue', edgecolor='black')\n",
    "\n",
    "# 그래프 제목 및 레이블 설정\n",
    "plt.title(\"Emotion Distribution\")\n",
    "plt.xlabel(\"Emotion\")\n",
    "plt.ylabel(\"Frequency\")\n",
    "\n",
    "plt.show()"
   ]
  },
  {
   "cell_type": "markdown",
   "metadata": {
    "id": "QgXU4mCDwrd6"
   },
   "source": [
    "### 2. AI 허브 데이터 이미지 -> 픽셀 변환"
   ]
  },
  {
   "cell_type": "code",
   "execution_count": 78,
   "metadata": {},
   "outputs": [],
   "source": [
    "def image_to_pixels(image_file):\n",
    "    try:\n",
    "        img = Image.open(image_file)\n",
    "        img = img.convert('L').resize((48, 48))  # 회색조로 변환하고 크기 조정\n",
    "        pixel_array = np.array(img).flatten()  # 이미지를 1D 배열로 변환\n",
    "        return ' '.join(map(str, pixel_array))\n",
    "    except OSError as e:\n",
    "        print(f\"OSError: {e}. 파일을 건너뜁니다.\")\n",
    "        return None\n",
    "    except DecompressionBombError as e:\n",
    "        print(f\"DecompressionBombError: {e}. 파일을 건너뜁니다.\")\n",
    "        return None\n",
    "    except Exception as e:\n",
    "        print(f\"예기치 못한 오류: {e}. 파일을 건너뜁니다.\")\n",
    "        return None"
   ]
  },
  {
   "cell_type": "markdown",
   "metadata": {},
   "source": [
    "- zip 파일 처리 후 emotion, pixels, Usage 컬럼을 가지는 df에 추가"
   ]
  },
  {
   "cell_type": "code",
   "execution_count": 58,
   "metadata": {},
   "outputs": [],
   "source": [
    "def merge_zip_parts(zip_folder_path, output_zip_file):\n",
    "    # 분할 ZIP 파일 목록을 정렬\n",
    "    zip_parts = sorted(\n",
    "        [f for f in os.listdir(zip_folder_path) if f.startswith(\"EMOIMG\")],\n",
    "        key=lambda x: int(x.split(\".part\")[-1])\n",
    "    )\n",
    "\n",
    "    # 병합된 ZIP 파일을 저장할 경로\n",
    "    with open(output_zip_file, 'wb') as merged_zip:\n",
    "        for part in zip_parts:\n",
    "            part_path = os.path.join(zip_folder_path, part)\n",
    "            with open(part_path, 'rb') as part_file:\n",
    "                shutil.copyfileobj(part_file, merged_zip)\n",
    "\n",
    "    print(f\"병합 완료: {output_zip_file}\")\n",
    "\n",
    "# Pillow의 이미지 크기 제한 증가 또는 비활성화\n",
    "Image.MAX_IMAGE_PIXELS = 50000000   # 5천만 픽셀로 제한 설정 (필요에 따라 조정 가능)\n",
    "\n",
    "def process_zip_files_and_create_dataframe(zip_folder_path, emotion, usage):\n",
    "    rows = []\n",
    "    \n",
    "    # ZIP 파일 목록\n",
    "    zip_files = [f for f in os.listdir(zip_folder_path) if f.endswith('.zip')]\n",
    "    print(\"ZIP 파일 목록:\", zip_files)\n",
    "\n",
    "    for zip_file in zip_files:\n",
    "        zip_path = os.path.join(zip_folder_path, zip_file)\n",
    "        \n",
    "        with zipfile.ZipFile(zip_path, 'r') as zip_ref:\n",
    "            # ZIP 파일 안의 모든 파일 목록\n",
    "            file_names = zip_ref.namelist()\n",
    "            \n",
    "            for file_name in file_names:\n",
    "                if file_name.endswith(('.jpg', '.png')):  # 이미지 파일 필터링\n",
    "                    try:\n",
    "                        # 이미지 파일을 메모리에서 열기\n",
    "                        with zip_ref.open(file_name) as img_file:\n",
    "                            pixels = image_to_pixels(img_file)\n",
    "                            if pixels is None:  # 이미지 크기가 너무 큰 경우 처리 건너뜀\n",
    "                                print(f\"Warning: {file_name} is too large. Skipping.\")\n",
    "                                continue\n",
    "                        \n",
    "                            # Data info에 매핑\n",
    "                            rows.append({'emotion': emotion, 'pixels': pixels, 'Usage': usage})\n",
    "                    except (OSError, UnidentifiedImageError) as e:\n",
    "                        # 손상된 이미지 파일 또는 읽기 실패 시 에러 출력 후 건너뜀\n",
    "                        print(f\"Warning: {file_name} is corrupted or unreadable. Skipping this file. Error: {e}\")\n",
    "                        continue\n",
    "\n",
    "    # DataFrame 생성\n",
    "    df = pd.DataFrame(rows, columns=['emotion', 'pixels', 'Usage'])\n",
    "    return df"
   ]
  },
  {
   "cell_type": "markdown",
   "metadata": {},
   "source": [
    "- 폴더 안에 압축 파일 풀어서 df에 추가(data 폴더에 zip 파일들을 바꾸면서 진행)"
   ]
  },
  {
   "cell_type": "code",
   "execution_count": 134,
   "metadata": {},
   "outputs": [
    {
     "name": "stdout",
     "output_type": "stream",
     "text": [
      "병합 완료: ./merged_data/merged_data.zip\n"
     ]
    }
   ],
   "source": [
    "# ZIP 파일이 저장된 폴더 경로\n",
    "zip_folder_path = path + 'data'\n",
    "# 병합된 ZIP 파일을 저장할 경로\n",
    "output_zip_file = path + 'merged_data/merged_data.zip'\n",
    "\n",
    "# ZIP 파일 병합\n",
    "merge_zip_parts(zip_folder_path, output_zip_file)"
   ]
  },
  {
   "cell_type": "code",
   "execution_count": 135,
   "metadata": {
    "scrolled": true
   },
   "outputs": [
    {
     "name": "stdout",
     "output_type": "stream",
     "text": [
      "ZIP 파일 목록: ['merged_data.zip']\n",
      "OSError: broken data stream when reading image file. 파일을 건너뜁니다.\n",
      "Warning: dc7e585097bcda58653ebf84fa33c6cc5d6f3eb500f105fa1f2693b1288fb632_│▓_20_▒Γ╗▌_░°░°╜├╝│&┴╛▒│&└╟╖ß╜├╝│_20201209133303-001-011.jpg is too large. Skipping.\n",
      "OSError: broken data stream when reading image file. 파일을 건너뜁니다.\n",
      "Warning: dc7e585097bcda58653ebf84fa33c6cc5d6f3eb500f105fa1f2693b1288fb632_│▓_20_▒Γ╗▌_▒│┼δ&└╠╡┐╝÷┤▄(┐ñ╕«║ú└╠┼═ ╞≈╟╘)_20201209133311-002-016.jpg is too large. Skipping.\n",
      "OSError: broken data stream when reading image file. 파일을 건너뜁니다.\n",
      "Warning: dc7e585097bcda58653ebf84fa33c6cc5d6f3eb500f105fa1f2693b1288fb632_│▓_20_▒Γ╗▌_▒│┼δ&└╠╡┐╝÷┤▄(┐ñ╕«║ú└╠┼═ ╞≈╟╘)_20201209133311-002-019.jpg is too large. Skipping.\n",
      "OSError: broken data stream when reading image file. 파일을 건너뜁니다.\n",
      "Warning: dc7e585097bcda58653ebf84fa33c6cc5d6f3eb500f105fa1f2693b1288fb632_│▓_20_▒Γ╗▌_╡╡╜╔ ╚»░µ_20201209133354-008-005.jpg is too large. Skipping.\n",
      "OSError: broken data stream when reading image file. 파일을 건너뜁니다.\n",
      "Warning: dc7e585097bcda58653ebf84fa33c6cc5d6f3eb500f105fa1f2693b1288fb632_│▓_20_▒Γ╗▌_╜╟┐▄ └┌┐¼╚»░µ_20201209133349-007-006.jpg is too large. Skipping.\n",
      "OSError: broken data stream when reading image file. 파일을 건너뜁니다.\n",
      "Warning: dc7e585097bcda58653ebf84fa33c6cc5d6f3eb500f105fa1f2693b1288fb632_│▓_20_▒Γ╗▌_╜╟┐▄ └┌┐¼╚»░µ_20201209133349-007-013.jpg is too large. Skipping.\n",
      "OSError: broken data stream when reading image file. 파일을 건너뜁니다.\n",
      "Warning: e7d03573a4ef0f455e412779fe03127267f8674ef9e99e851cba2a0d75a134c4_┐⌐_30_▒Γ╗▌_╣«╚¡└τ ╣╫ └»└√┴÷_20201205122703-009-005.jpg is too large. Skipping.\n"
     ]
    },
    {
     "data": {
      "text/html": [
       "<div>\n",
       "<style scoped>\n",
       "    .dataframe tbody tr th:only-of-type {\n",
       "        vertical-align: middle;\n",
       "    }\n",
       "\n",
       "    .dataframe tbody tr th {\n",
       "        vertical-align: top;\n",
       "    }\n",
       "\n",
       "    .dataframe thead th {\n",
       "        text-align: right;\n",
       "    }\n",
       "</style>\n",
       "<table border=\"1\" class=\"dataframe\">\n",
       "  <thead>\n",
       "    <tr style=\"text-align: right;\">\n",
       "      <th></th>\n",
       "      <th>emotion</th>\n",
       "      <th>pixels</th>\n",
       "      <th>Usage</th>\n",
       "    </tr>\n",
       "  </thead>\n",
       "  <tbody>\n",
       "    <tr>\n",
       "      <th>0</th>\n",
       "      <td>3</td>\n",
       "      <td>29 31 34 30 27 31 22 26 104 77 49 40 57 69 88 ...</td>\n",
       "      <td>Training</td>\n",
       "    </tr>\n",
       "    <tr>\n",
       "      <th>1</th>\n",
       "      <td>3</td>\n",
       "      <td>87 76 49 41 14 15 15 15 14 13 12 11 13 12 12 1...</td>\n",
       "      <td>Training</td>\n",
       "    </tr>\n",
       "    <tr>\n",
       "      <th>2</th>\n",
       "      <td>3</td>\n",
       "      <td>43 43 43 44 43 39 33 34 30 31 32 33 35 36 38 3...</td>\n",
       "      <td>Training</td>\n",
       "    </tr>\n",
       "    <tr>\n",
       "      <th>3</th>\n",
       "      <td>3</td>\n",
       "      <td>213 203 197 158 129 170 202 211 185 155 151 76...</td>\n",
       "      <td>Training</td>\n",
       "    </tr>\n",
       "    <tr>\n",
       "      <th>4</th>\n",
       "      <td>3</td>\n",
       "      <td>250 247 244 242 223 210 220 200 147 107 135 17...</td>\n",
       "      <td>Training</td>\n",
       "    </tr>\n",
       "    <tr>\n",
       "      <th>...</th>\n",
       "      <td>...</td>\n",
       "      <td>...</td>\n",
       "      <td>...</td>\n",
       "    </tr>\n",
       "    <tr>\n",
       "      <th>11512</th>\n",
       "      <td>3</td>\n",
       "      <td>173 185 190 190 190 194 195 194 194 193 191 18...</td>\n",
       "      <td>Training</td>\n",
       "    </tr>\n",
       "    <tr>\n",
       "      <th>11513</th>\n",
       "      <td>3</td>\n",
       "      <td>108 108 111 91 61 73 153 201 184 166 144 193 1...</td>\n",
       "      <td>Training</td>\n",
       "    </tr>\n",
       "    <tr>\n",
       "      <th>11514</th>\n",
       "      <td>3</td>\n",
       "      <td>157 144 150 147 140 167 164 157 192 176 156 15...</td>\n",
       "      <td>Training</td>\n",
       "    </tr>\n",
       "    <tr>\n",
       "      <th>11515</th>\n",
       "      <td>3</td>\n",
       "      <td>71 69 70 70 71 71 73 75 75 74 75 77 74 74 74 7...</td>\n",
       "      <td>Training</td>\n",
       "    </tr>\n",
       "    <tr>\n",
       "      <th>11516</th>\n",
       "      <td>3</td>\n",
       "      <td>179 178 176 176 175 174 173 170 169 168 169 17...</td>\n",
       "      <td>Training</td>\n",
       "    </tr>\n",
       "  </tbody>\n",
       "</table>\n",
       "<p>11517 rows × 3 columns</p>\n",
       "</div>"
      ],
      "text/plain": [
       "       emotion                                             pixels     Usage\n",
       "0            3  29 31 34 30 27 31 22 26 104 77 49 40 57 69 88 ...  Training\n",
       "1            3  87 76 49 41 14 15 15 15 14 13 12 11 13 12 12 1...  Training\n",
       "2            3  43 43 43 44 43 39 33 34 30 31 32 33 35 36 38 3...  Training\n",
       "3            3  213 203 197 158 129 170 202 211 185 155 151 76...  Training\n",
       "4            3  250 247 244 242 223 210 220 200 147 107 135 17...  Training\n",
       "...        ...                                                ...       ...\n",
       "11512        3  173 185 190 190 190 194 195 194 194 193 191 18...  Training\n",
       "11513        3  108 108 111 91 61 73 153 201 184 166 144 193 1...  Training\n",
       "11514        3  157 144 150 147 140 167 164 157 192 176 156 15...  Training\n",
       "11515        3  71 69 70 70 71 71 73 75 75 74 75 77 74 74 74 7...  Training\n",
       "11516        3  179 178 176 176 175 174 173 170 169 168 169 17...  Training\n",
       "\n",
       "[11517 rows x 3 columns]"
      ]
     },
     "execution_count": 135,
     "metadata": {},
     "output_type": "execute_result"
    }
   ],
   "source": [
    "df = process_zip_files_and_create_dataframe(path + 'merged_data', 3, 'Training')\n",
    "df"
   ]
  },
  {
   "cell_type": "code",
   "execution_count": 136,
   "metadata": {},
   "outputs": [
    {
     "data": {
      "text/plain": [
       "11517"
      ]
     },
     "execution_count": 136,
     "metadata": {},
     "output_type": "execute_result"
    }
   ],
   "source": [
    "len(df)"
   ]
  },
  {
   "cell_type": "code",
   "execution_count": 137,
   "metadata": {},
   "outputs": [],
   "source": [
    "# csv 파일로 저장\n",
    "df.to_csv('df.csv', index=False) "
   ]
  },
  {
   "cell_type": "markdown",
   "metadata": {},
   "source": [
    "### 3. 변환한 AI 허브 데이터 개수 맞추기"
   ]
  },
  {
   "cell_type": "code",
   "execution_count": 46,
   "metadata": {},
   "outputs": [
    {
     "data": {
      "text/plain": [
       "emotion\n",
       "3    8989\n",
       "5    6198\n",
       "4    6077\n",
       "2    5121\n",
       "0    4953\n",
       "Name: count, dtype: int64"
      ]
     },
     "execution_count": 46,
     "metadata": {},
     "output_type": "execute_result"
    }
   ],
   "source": [
    "# FER2013 감정 개수\n",
    "fer2013['emotion'].value_counts()"
   ]
  },
  {
   "cell_type": "code",
   "execution_count": 42,
   "metadata": {},
   "outputs": [
    {
     "data": {
      "text/html": [
       "<div>\n",
       "<style scoped>\n",
       "    .dataframe tbody tr th:only-of-type {\n",
       "        vertical-align: middle;\n",
       "    }\n",
       "\n",
       "    .dataframe tbody tr th {\n",
       "        vertical-align: top;\n",
       "    }\n",
       "\n",
       "    .dataframe thead th {\n",
       "        text-align: right;\n",
       "    }\n",
       "</style>\n",
       "<table border=\"1\" class=\"dataframe\">\n",
       "  <thead>\n",
       "    <tr style=\"text-align: right;\">\n",
       "      <th></th>\n",
       "      <th>emotion</th>\n",
       "      <th>pixels</th>\n",
       "      <th>Usage</th>\n",
       "    </tr>\n",
       "  </thead>\n",
       "  <tbody>\n",
       "    <tr>\n",
       "      <th>0</th>\n",
       "      <td>5</td>\n",
       "      <td>88 87 86 79 75 75 77 77 75 73 74 75 77 80 83 8...</td>\n",
       "      <td>Training</td>\n",
       "    </tr>\n",
       "    <tr>\n",
       "      <th>1</th>\n",
       "      <td>5</td>\n",
       "      <td>155 159 206 179 182 174 154 97 128 135 178 206...</td>\n",
       "      <td>Training</td>\n",
       "    </tr>\n",
       "    <tr>\n",
       "      <th>2</th>\n",
       "      <td>5</td>\n",
       "      <td>228 231 232 228 223 209 190 161 121 135 97 62 ...</td>\n",
       "      <td>Training</td>\n",
       "    </tr>\n",
       "    <tr>\n",
       "      <th>3</th>\n",
       "      <td>5</td>\n",
       "      <td>83 87 94 85 94 89 124 193 136 127 204 195 169 ...</td>\n",
       "      <td>Training</td>\n",
       "    </tr>\n",
       "    <tr>\n",
       "      <th>4</th>\n",
       "      <td>5</td>\n",
       "      <td>88 90 92 67 140 145 136 125 113 97 83 77 80 89...</td>\n",
       "      <td>Training</td>\n",
       "    </tr>\n",
       "  </tbody>\n",
       "</table>\n",
       "</div>"
      ],
      "text/plain": [
       "   emotion                                             pixels     Usage\n",
       "0        5  88 87 86 79 75 75 77 77 75 73 74 75 77 80 83 8...  Training\n",
       "1        5  155 159 206 179 182 174 154 97 128 135 178 206...  Training\n",
       "2        5  228 231 232 228 223 209 190 161 121 135 97 62 ...  Training\n",
       "3        5  83 87 94 85 94 89 124 193 136 127 204 195 169 ...  Training\n",
       "4        5  88 90 92 67 140 145 136 125 113 97 83 77 80 89...  Training"
      ]
     },
     "metadata": {},
     "output_type": "display_data"
    },
    {
     "name": "stdout",
     "output_type": "stream",
     "text": [
      "[5]\n",
      "모든 CSV 파일이 성공적으로 Neutral.csv에 저장되었습니다!\n"
     ]
    }
   ],
   "source": [
    "# CSV 파일이 저장된 폴더 경로\n",
    "folder_path = \"./중립\"  # 원하는 폴더 경로로 변경하세요\n",
    "output_file = \"Neutral.csv\"  # 합친 파일을 저장할 이름\n",
    "\n",
    "# 폴더 내의 모든 CSV 파일 리스트 가져오기\n",
    "csv_files = [file for file in os.listdir(folder_path) if file.endswith(\".csv\")]\n",
    "\n",
    "# 데이터프레임 리스트 생성\n",
    "dataframes = []\n",
    "\n",
    "# 각 CSV 파일을 읽어서 리스트에 추가\n",
    "for file in csv_files:\n",
    "    file_path = os.path.join(folder_path, file)\n",
    "    df = pd.read_csv(file_path)\n",
    "    dataframes.append(df)\n",
    "\n",
    "# 데이터프레임들을 하나로 합치기\n",
    "merged_df = pd.concat(dataframes, ignore_index=True)\n",
    "\n",
    "# 합친 결과를 CSV 파일로 저장\n",
    "merged_df.to_csv(output_file, index=False)\n",
    "\n",
    "display(merged_df.head())\n",
    "print(merged_df['emotion'].unique())\n",
    "\n",
    "print(f\"모든 CSV 파일이 성공적으로 {output_file}에 저장되었습니다!\")"
   ]
  },
  {
   "cell_type": "markdown",
   "metadata": {},
   "source": [
    "- 각 감정의 개수 확인 "
   ]
  },
  {
   "cell_type": "code",
   "execution_count": 58,
   "metadata": {},
   "outputs": [
    {
     "name": "stdout",
     "output_type": "stream",
     "text": [
      "Happy: 58664\n",
      "Confusion: 58308\n",
      "Fear: 57963\n",
      "Angry: 58322\n",
      "Sad: 58530\n",
      "Neutral: 57930\n"
     ]
    }
   ],
   "source": [
    "print(f\"Happy: {len(pd.read_csv(\"./happy.csv\"))}\")\n",
    "print(f\"Confusion: {len(pd.read_csv(\"./Confusion.csv\"))}\")\n",
    "print(f\"Fear: {len(pd.read_csv(\"./Fear.csv\"))}\")\n",
    "print(f\"Angry: {len(pd.read_csv(\"./Angry.csv\"))}\")\n",
    "print(f\"Sad: {len(pd.read_csv(\"./Sad.csv\"))}\")\n",
    "print(f\"Neutral: {len(pd.read_csv(\"./Neutral.csv\"))}\")"
   ]
  },
  {
   "cell_type": "markdown",
   "metadata": {},
   "source": [
    "- 전체 개수 58308로 제한, FER2013은 유지\n",
    "    - Happy: 49319\n",
    "    - Confusion: 58308\n",
    "    - Fear: 53187\n",
    "    - Angry: 53355\n",
    "    - Sad: 52231\n",
    "    - Neutral: 52110"
   ]
  },
  {
   "cell_type": "code",
   "execution_count": 69,
   "metadata": {},
   "outputs": [],
   "source": [
    "Happy = pd.read_csv(\"./happy.csv\")\n",
    "Happy = Happy.iloc[:49319]\n",
    "Happy.to_csv(\"Happy.csv\", index=False)"
   ]
  },
  {
   "cell_type": "code",
   "execution_count": 67,
   "metadata": {},
   "outputs": [],
   "source": [
    "Confusion = pd.read_csv(\"./Confusion.csv\")\n",
    "Confusion = Confusion.iloc[:58308]\n",
    "Confusion.to_csv(\"Confusion.csv\", index=False)"
   ]
  },
  {
   "cell_type": "code",
   "execution_count": 71,
   "metadata": {},
   "outputs": [],
   "source": [
    "Fear = pd.read_csv(\"./Fear.csv\")\n",
    "Fear = Fear.iloc[:53187]\n",
    "Fear.to_csv(\"Fear.csv\", index=False)"
   ]
  },
  {
   "cell_type": "code",
   "execution_count": 73,
   "metadata": {},
   "outputs": [],
   "source": [
    "Angry = pd.read_csv(\"./Angry.csv\")\n",
    "Angry = Angry.iloc[:53355]\n",
    "Angry.to_csv(\"Angry.csv\", index=False)"
   ]
  },
  {
   "cell_type": "code",
   "execution_count": 76,
   "metadata": {},
   "outputs": [],
   "source": [
    "Sad = pd.read_csv(\"./Sad.csv\")\n",
    "Sad = Sad.iloc[:52231]\n",
    "Sad.to_csv(\"Sad.csv\", index=False)"
   ]
  },
  {
   "cell_type": "code",
   "execution_count": 77,
   "metadata": {},
   "outputs": [],
   "source": [
    "Neutral = pd.read_csv(\"./Neutral.csv\")\n",
    "Neutral = Neutral.iloc[:52110]\n",
    "Neutral.to_csv(\"Neutral.csv\", index=False)"
   ]
  },
  {
   "cell_type": "markdown",
   "metadata": {},
   "source": [
    "### 4. 변환한 AI 허브 데이터 병합"
   ]
  },
  {
   "cell_type": "code",
   "execution_count": 80,
   "metadata": {},
   "outputs": [
    {
     "data": {
      "text/html": [
       "<div>\n",
       "<style scoped>\n",
       "    .dataframe tbody tr th:only-of-type {\n",
       "        vertical-align: middle;\n",
       "    }\n",
       "\n",
       "    .dataframe tbody tr th {\n",
       "        vertical-align: top;\n",
       "    }\n",
       "\n",
       "    .dataframe thead th {\n",
       "        text-align: right;\n",
       "    }\n",
       "</style>\n",
       "<table border=\"1\" class=\"dataframe\">\n",
       "  <thead>\n",
       "    <tr style=\"text-align: right;\">\n",
       "      <th></th>\n",
       "      <th>emotion</th>\n",
       "      <th>pixels</th>\n",
       "      <th>Usage</th>\n",
       "    </tr>\n",
       "  </thead>\n",
       "  <tbody>\n",
       "    <tr>\n",
       "      <th>0</th>\n",
       "      <td>0</td>\n",
       "      <td>195 184 176 178 179 182 184 181 177 171 164 17...</td>\n",
       "      <td>Training</td>\n",
       "    </tr>\n",
       "    <tr>\n",
       "      <th>1</th>\n",
       "      <td>0</td>\n",
       "      <td>87 85 80 75 74 76 76 75 73 73 74 76 80 82 86 8...</td>\n",
       "      <td>Training</td>\n",
       "    </tr>\n",
       "    <tr>\n",
       "      <th>2</th>\n",
       "      <td>0</td>\n",
       "      <td>154 153 205 179 180 174 158 99 123 135 172 203...</td>\n",
       "      <td>Training</td>\n",
       "    </tr>\n",
       "    <tr>\n",
       "      <th>3</th>\n",
       "      <td>0</td>\n",
       "      <td>208 219 226 213 211 178 86 95 100 103 104 104 ...</td>\n",
       "      <td>Training</td>\n",
       "    </tr>\n",
       "    <tr>\n",
       "      <th>4</th>\n",
       "      <td>0</td>\n",
       "      <td>61 56 50 46 43 39 36 33 31 30 29 28 26 24 23 2...</td>\n",
       "      <td>Training</td>\n",
       "    </tr>\n",
       "  </tbody>\n",
       "</table>\n",
       "</div>"
      ],
      "text/plain": [
       "   emotion                                             pixels     Usage\n",
       "0        0  195 184 176 178 179 182 184 181 177 171 164 17...  Training\n",
       "1        0  87 85 80 75 74 76 76 75 73 73 74 76 80 82 86 8...  Training\n",
       "2        0  154 153 205 179 180 174 158 99 123 135 172 203...  Training\n",
       "3        0  208 219 226 213 211 178 86 95 100 103 104 104 ...  Training\n",
       "4        0  61 56 50 46 43 39 36 33 31 30 29 28 26 24 23 2...  Training"
      ]
     },
     "metadata": {},
     "output_type": "display_data"
    },
    {
     "name": "stdout",
     "output_type": "stream",
     "text": [
      "318510\n",
      "[0 1 2 3 5 4]\n",
      "모든 CSV 파일이 성공적으로 aihub_total.csv에 저장되었습니다!\n"
     ]
    }
   ],
   "source": [
    "# CSV 파일이 저장된 폴더 경로\n",
    "folder_path = \"./total\"  # 원하는 폴더 경로로 변경하세요\n",
    "output_file = \"aihub_total.csv\"  # 합친 파일을 저장할 이름\n",
    "\n",
    "# 폴더 내의 모든 CSV 파일 리스트 가져오기\n",
    "csv_files = [file for file in os.listdir(folder_path) if file.endswith(\".csv\")]\n",
    "\n",
    "# 데이터프레임 리스트 생성\n",
    "dataframes = []\n",
    "\n",
    "# 각 CSV 파일을 읽어서 리스트에 추가\n",
    "for file in csv_files:\n",
    "    file_path = os.path.join(folder_path, file)\n",
    "    df = pd.read_csv(file_path)\n",
    "    dataframes.append(df)\n",
    "\n",
    "# 데이터프레임들을 하나로 합치기\n",
    "merged_df = pd.concat(dataframes, ignore_index=True)\n",
    "\n",
    "# 합친 결과를 CSV 파일로 저장\n",
    "merged_df.to_csv(output_file, index=False)\n",
    "\n",
    "display(merged_df.head())\n",
    "print(len(merged_df))\n",
    "print(merged_df['emotion'].unique())\n",
    "\n",
    "print(f\"모든 CSV 파일이 성공적으로 {output_file}에 저장되었습니다!\")"
   ]
  },
  {
   "cell_type": "markdown",
   "metadata": {},
   "source": [
    "### 5. FER2013 + 변환된 AI 허브 데이터"
   ]
  },
  {
   "cell_type": "code",
   "execution_count": 86,
   "metadata": {},
   "outputs": [],
   "source": [
    "aihub_total = pd.read_csv(\"aihub_total.csv\")"
   ]
  },
  {
   "cell_type": "code",
   "execution_count": 104,
   "metadata": {},
   "outputs": [
    {
     "data": {
      "text/plain": [
       "emotion\n",
       "0    58308\n",
       "1    58308\n",
       "2    58308\n",
       "3    58308\n",
       "5    58308\n",
       "4    58308\n",
       "Name: count, dtype: int64"
      ]
     },
     "execution_count": 104,
     "metadata": {},
     "output_type": "execute_result"
    }
   ],
   "source": [
    "merged_df = pd.concat([aihub_total, fer2013], ignore_index=True)\n",
    "merged_df['emotion'].value_counts()"
   ]
  },
  {
   "cell_type": "code",
   "execution_count": 106,
   "metadata": {},
   "outputs": [
    {
     "data": {
      "text/html": [
       "<div>\n",
       "<style scoped>\n",
       "    .dataframe tbody tr th:only-of-type {\n",
       "        vertical-align: middle;\n",
       "    }\n",
       "\n",
       "    .dataframe tbody tr th {\n",
       "        vertical-align: top;\n",
       "    }\n",
       "\n",
       "    .dataframe thead th {\n",
       "        text-align: right;\n",
       "    }\n",
       "</style>\n",
       "<table border=\"1\" class=\"dataframe\">\n",
       "  <thead>\n",
       "    <tr style=\"text-align: right;\">\n",
       "      <th></th>\n",
       "      <th>emotion</th>\n",
       "      <th>pixels</th>\n",
       "      <th>Usage</th>\n",
       "    </tr>\n",
       "  </thead>\n",
       "  <tbody>\n",
       "    <tr>\n",
       "      <th>0</th>\n",
       "      <td>0</td>\n",
       "      <td>195 184 176 178 179 182 184 181 177 171 164 17...</td>\n",
       "      <td>Training</td>\n",
       "    </tr>\n",
       "    <tr>\n",
       "      <th>1</th>\n",
       "      <td>0</td>\n",
       "      <td>87 85 80 75 74 76 76 75 73 73 74 76 80 82 86 8...</td>\n",
       "      <td>Training</td>\n",
       "    </tr>\n",
       "    <tr>\n",
       "      <th>2</th>\n",
       "      <td>0</td>\n",
       "      <td>154 153 205 179 180 174 158 99 123 135 172 203...</td>\n",
       "      <td>Training</td>\n",
       "    </tr>\n",
       "    <tr>\n",
       "      <th>3</th>\n",
       "      <td>0</td>\n",
       "      <td>208 219 226 213 211 178 86 95 100 103 104 104 ...</td>\n",
       "      <td>Training</td>\n",
       "    </tr>\n",
       "    <tr>\n",
       "      <th>4</th>\n",
       "      <td>0</td>\n",
       "      <td>61 56 50 46 43 39 36 33 31 30 29 28 26 24 23 2...</td>\n",
       "      <td>Training</td>\n",
       "    </tr>\n",
       "  </tbody>\n",
       "</table>\n",
       "</div>"
      ],
      "text/plain": [
       "   emotion                                             pixels     Usage\n",
       "0        0  195 184 176 178 179 182 184 181 177 171 164 17...  Training\n",
       "1        0  87 85 80 75 74 76 76 75 73 73 74 76 80 82 86 8...  Training\n",
       "2        0  154 153 205 179 180 174 158 99 123 135 172 203...  Training\n",
       "3        0  208 219 226 213 211 178 86 95 100 103 104 104 ...  Training\n",
       "4        0  61 56 50 46 43 39 36 33 31 30 29 28 26 24 23 2...  Training"
      ]
     },
     "execution_count": 106,
     "metadata": {},
     "output_type": "execute_result"
    }
   ],
   "source": [
    "merged_df.head()"
   ]
  },
  {
   "cell_type": "code",
   "execution_count": 110,
   "metadata": {},
   "outputs": [],
   "source": [
    "# 합친 결과를 CSV 파일로 저장\n",
    "merged_df.to_csv(\"face_emotion.csv\", index=False)"
   ]
  },
  {
   "cell_type": "code",
   "execution_count": null,
   "metadata": {},
   "outputs": [],
   "source": []
  }
 ],
 "metadata": {
  "colab": {
   "provenance": []
  },
  "kernelspec": {
   "display_name": "Python 3 (ipykernel)",
   "language": "python",
   "name": "python3"
  },
  "language_info": {
   "codemirror_mode": {
    "name": "ipython",
    "version": 3
   },
   "file_extension": ".py",
   "mimetype": "text/x-python",
   "name": "python",
   "nbconvert_exporter": "python",
   "pygments_lexer": "ipython3",
   "version": "3.12.4"
  }
 },
 "nbformat": 4,
 "nbformat_minor": 4
}
